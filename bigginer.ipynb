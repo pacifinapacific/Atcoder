{
 "cells": [
  {
   "cell_type": "markdown",
   "metadata": {},
   "source": [
    "# PracticeA - Welcome to AtCoder"
   ]
  },
  {
   "cell_type": "code",
   "execution_count": 1,
   "metadata": {},
   "outputs": [
    {
     "name": "stdout",
     "output_type": "stream",
     "text": [
      "1\n",
      "2 3\n",
      "test\n",
      "6 test\n"
     ]
    }
   ],
   "source": [
    "a=int(input())\n",
    "b,c=map(int,input().split())\n",
    "s=input()\n",
    "print(\"{} {}\".format(a+b+c,s))"
   ]
  },
  {
   "cell_type": "markdown",
   "metadata": {},
   "source": [
    "# ABC086A - Product"
   ]
  },
  {
   "cell_type": "code",
   "execution_count": 3,
   "metadata": {},
   "outputs": [
    {
     "name": "stdout",
     "output_type": "stream",
     "text": [
      "1 21\n",
      "Odd\n"
     ]
    }
   ],
   "source": [
    "a,b=map(int,input().split())\n",
    "mul=a*b\n",
    "if mul%2==0:\n",
    "    print(\"Even\")\n",
    "else:\n",
    "    print(\"Odd\")"
   ]
  },
  {
   "cell_type": "markdown",
   "metadata": {},
   "source": [
    "# ABC081A - Placing Marbles"
   ]
  },
  {
   "cell_type": "code",
   "execution_count": 16,
   "metadata": {},
   "outputs": [
    {
     "name": "stdout",
     "output_type": "stream",
     "text": [
      "101\n",
      "2\n"
     ]
    }
   ],
   "source": [
    "s=input()\n",
    "sum=0\n",
    "for i in range(3):\n",
    "    if s[i]==\"1\":\n",
    "        sum+=1\n",
    "print(sum)\n",
    "\n"
   ]
  },
  {
   "cell_type": "code",
   "execution_count": 17,
   "metadata": {},
   "outputs": [
    {
     "name": "stdout",
     "output_type": "stream",
     "text": [
      "101\n",
      "2\n"
     ]
    }
   ],
   "source": [
    "print(input().count(\"1\"))"
   ]
  },
  {
   "cell_type": "markdown",
   "metadata": {},
   "source": [
    "# ABC081B - Shift only"
   ]
  },
  {
   "cell_type": "code",
   "execution_count": 23,
   "metadata": {},
   "outputs": [
    {
     "name": "stdout",
     "output_type": "stream",
     "text": [
      "4\n",
      "5 6 8 10\n",
      "[5, 3.0, 4.0, 5.0]\n",
      "0\n"
     ]
    }
   ],
   "source": [
    "N=int(input())\n",
    "A_List=list(map(int,input().split()))\n",
    "loop_count=0\n",
    "\n",
    "for loop in range(10**9):\n",
    "    odd=0\n",
    "    for i,A in enumerate(A_List):\n",
    "        if A%2==0:\n",
    "            A_List[i]=A/2\n",
    "        else:\n",
    "            odd+=1\n",
    "    if odd!=0:\n",
    "        break\n",
    "    else:\n",
    "        loop_count+=1\n",
    "print(loop_count)\n",
    "    "
   ]
  },
  {
   "cell_type": "markdown",
   "metadata": {},
   "source": [
    "# ABC087B - Coins"
   ]
  },
  {
   "cell_type": "code",
   "execution_count": 12,
   "metadata": {},
   "outputs": [
    {
     "name": "stdout",
     "output_type": "stream",
     "text": [
      "30\n",
      "40\n",
      "50\n",
      "6000\n",
      "213\n"
     ]
    }
   ],
   "source": [
    "a=int(input())\n",
    "b=int(input())\n",
    "c=int(input())\n",
    "x=int(input())\n",
    "\n",
    "sum=0\n",
    "for i in range(a+1):\n",
    "    total=0\n",
    "    if 500*i>x:\n",
    "        break\n",
    "    else:\n",
    "        for j in range(b+1):\n",
    "            total=500*i\n",
    "            if total+100*j>x:\n",
    "                break\n",
    "            else:\n",
    "                for k in range(c+1):\n",
    "                    total=500*i+100*j\n",
    "                    if total+50*k>x:\n",
    "                        break\n",
    "                    elif total+50*k==x:\n",
    "                        sum+=1\n",
    "                        \n",
    "            \n",
    "print(sum)        "
   ]
  },
  {
   "cell_type": "code",
   "execution_count": 14,
   "metadata": {},
   "outputs": [
    {
     "name": "stdout",
     "output_type": "stream",
     "text": [
      "2\n",
      "2\n",
      "2\n",
      "100\n",
      "2\n"
     ]
    }
   ],
   "source": [
    "a, b, c, x = map(int, [input() for i in range(4)])\n",
    "ans = 0\n",
    "for i in range(a+1):\n",
    "    for j in range(b+1):\n",
    "        for k in range(c+1):\n",
    "            if i * 500 + j * 100 + k * 50 == x:\n",
    "                ans += 1\n",
    "print(ans)"
   ]
  },
  {
   "cell_type": "markdown",
   "metadata": {},
   "source": [
    "# ABC083B - Some Sums"
   ]
  },
  {
   "cell_type": "code",
   "execution_count": 55,
   "metadata": {},
   "outputs": [
    {
     "name": "stdout",
     "output_type": "stream",
     "text": [
      "20 2 5\n",
      "84\n"
     ]
    }
   ],
   "source": [
    "N,a,b=map(int,input().split())\n",
    "result=0\n",
    "\n",
    "def total_sum(val):\n",
    "    total=0\n",
    "    for i in range(len(str(val))):\n",
    "        total+=int(str(val)[i])\n",
    "    return total\n",
    "\n",
    "for i in range(1,N+1):\n",
    "    k=total_sum(i)\n",
    "    #print(k)\n",
    "    if a<=k and k<=b:\n",
    "        result+=i\n",
    "\n",
    "        \n",
    "print(result)\n",
    "        \n",
    "        "
   ]
  },
  {
   "cell_type": "markdown",
   "metadata": {},
   "source": [
    "#  ABC088B - Card Game for Two"
   ]
  },
  {
   "cell_type": "code",
   "execution_count": 13,
   "metadata": {},
   "outputs": [
    {
     "name": "stdout",
     "output_type": "stream",
     "text": [
      "3\n",
      "2 7 4\n",
      "5\n"
     ]
    }
   ],
   "source": [
    "N=int(input())\n",
    "A_List=list(map(int,input().split()))\n",
    "A_List.sort(reverse=True)\n",
    "if N%2==1:\n",
    "    A_List.append(0)\n",
    "result=0\n",
    "for i in range(int(len(A_List)/2)):\n",
    "    result+=A_List[2*i]-A_List[2*i+1]\n",
    "\n",
    "print(result)"
   ]
  },
  {
   "cell_type": "code",
   "execution_count": 26,
   "metadata": {},
   "outputs": [
    {
     "name": "stdout",
     "output_type": "stream",
     "text": [
      "3\n",
      "2 74\n",
      "72\n"
     ]
    }
   ],
   "source": [
    "n = int(input())\n",
    "a = sorted(list(map(int, input().split())), reverse=True)\n",
    "print(sum(a[::2]) - sum(a[1::2]))"
   ]
  },
  {
   "cell_type": "markdown",
   "metadata": {},
   "source": [
    "# ABC085B - Kagami Mochi"
   ]
  },
  {
   "cell_type": "code",
   "execution_count": 25,
   "metadata": {},
   "outputs": [
    {
     "name": "stdout",
     "output_type": "stream",
     "text": [
      "7\n",
      "2\n",
      "2\n",
      "2\n",
      "2\n",
      "2\n",
      "2\n",
      "2\n",
      "1\n"
     ]
    }
   ],
   "source": [
    "N=int(input())\n",
    "d_List=[int(input()) for i in range(N)]\n",
    "d_List.sort()\n",
    "result=1\n",
    "max_=d_List[0]\n",
    "for i in range(1,N):\n",
    "    if d_List[i]>max_:\n",
    "        result+=1\n",
    "    max_=d_List[i]\n",
    "print(result)\n",
    "    "
   ]
  },
  {
   "cell_type": "code",
   "execution_count": 27,
   "metadata": {},
   "outputs": [
    {
     "name": "stdout",
     "output_type": "stream",
     "text": [
      "4 \n",
      "1\n",
      "4\n",
      "5\n",
      "5\n",
      "3\n"
     ]
    }
   ],
   "source": [
    "n = int(input())\n",
    "print(len(set(map(int, [input() for i in range(n)]))))\n"
   ]
  },
  {
   "cell_type": "markdown",
   "metadata": {},
   "source": [
    "#  ABC085C - Otoshidama"
   ]
  },
  {
   "cell_type": "code",
   "execution_count": 30,
   "metadata": {},
   "outputs": [
    {
     "name": "stdout",
     "output_type": "stream",
     "text": [
      "20 196000\n",
      "-1 -1 -1\n"
     ]
    }
   ],
   "source": [
    "N,Y=map(int,input().split())\n",
    "man,gosen,sen=-1,-1,-1\n",
    "for i in range(N+1):\n",
    "    for j in range(N+1-i):\n",
    "        sum=10000*i+5000*j+1000*(N-i-j)\n",
    "        if sum==Y:\n",
    "            man,gosen,sen=i,j,N-i-j\n",
    "            break\n",
    "print(\"{} {} {}\".format(man,gosen,sen))\n",
    "            "
   ]
  },
  {
   "cell_type": "markdown",
   "metadata": {},
   "source": [
    "# ABC049C - 白昼夢 / Daydream"
   ]
  },
  {
   "cell_type": "code",
   "execution_count": 40,
   "metadata": {},
   "outputs": [
    {
     "name": "stdout",
     "output_type": "stream",
     "text": [
      "dreamerer\n",
      "NO\n"
     ]
    }
   ],
   "source": [
    "S=input()\n",
    "S_inv=S[::-1]\n",
    "#ind=S_inv.find(\"mae\")\n",
    "name=\"\"\n",
    "count=0\n",
    "for s in S_inv:\n",
    "    name=name+s\n",
    "    if name==\"maerd\":\n",
    "        count+=5\n",
    "        name=\"\"\n",
    "    elif name==\"remaerd\":\n",
    "        count+=7\n",
    "        name=\"\"\n",
    "    elif name==\"esare\":\n",
    "        count+=5\n",
    "        name=\"\"\n",
    "    elif name==\"resare\":\n",
    "        count+=6\n",
    "        name=\"\"\n",
    "if count==len(S_inv):\n",
    "    print(\"YES\")\n",
    "else:\n",
    "    print(\"NO\")\n",
    "    \n",
    "        \n",
    "    "
   ]
  },
  {
   "cell_type": "code",
   "execution_count": 41,
   "metadata": {},
   "outputs": [
    {
     "name": "stdout",
     "output_type": "stream",
     "text": [
      "dreamerer\n",
      "NO\n"
     ]
    }
   ],
   "source": [
    "s=input().replace(\"eraser\",\"\").replace(\"erase\",\"\").replace(\"dreamer\",\"\").replace(\"dream\",\"\")\n",
    "if s:\n",
    "    print(\"NO\")\n",
    "else:\n",
    "    print(\"YES\")"
   ]
  },
  {
   "cell_type": "markdown",
   "metadata": {},
   "source": [
    "# ABC086C - Traveling"
   ]
  },
  {
   "cell_type": "code",
   "execution_count": 48,
   "metadata": {},
   "outputs": [
    {
     "name": "stdout",
     "output_type": "stream",
     "text": [
      "2\n",
      "5 1 1\n",
      "100 1 1\n",
      "0\n",
      "0\n",
      "No\n"
     ]
    }
   ],
   "source": [
    "N=int(input())\n",
    "t_list,x_list,y_list=[0],[0],[0]\n",
    "for i in range(N):\n",
    "    t,x,y=map(int,input().split())\n",
    "    t_list.append(t)\n",
    "    x_list.append(x)\n",
    "    y_list.append(y)\n",
    "count=0\n",
    "\n",
    "a=0\n",
    "for i in range(1,N+1):\n",
    "    flag=\"True\"\n",
    "    dx=abs(x_list[i]-x_list[i-1])\n",
    "    dy=abs(y_list[i]-y_list[i-1])\n",
    "    dt=t_list[i]-t_list[i-1]\n",
    "    while flag==\"True\" and dt>=1 :\n",
    "        if dx+dy==dt:\n",
    "            count+=1\n",
    "            flag=\"False\"\n",
    "        else:\n",
    "            dt=dt-2\n",
    "\n",
    "if count==N:\n",
    "    print(\"Yes\")\n",
    "else:\n",
    "    print(\"No\")\n",
    "    \n",
    "    "
   ]
  },
  {
   "cell_type": "code",
   "execution_count": null,
   "metadata": {},
   "outputs": [],
   "source": []
  },
  {
   "cell_type": "code",
   "execution_count": null,
   "metadata": {},
   "outputs": [],
   "source": []
  }
 ],
 "metadata": {
  "kernelspec": {
   "display_name": "Python 3",
   "language": "python",
   "name": "python3"
  },
  "language_info": {
   "codemirror_mode": {
    "name": "ipython",
    "version": 3
   },
   "file_extension": ".py",
   "mimetype": "text/x-python",
   "name": "python",
   "nbconvert_exporter": "python",
   "pygments_lexer": "ipython3",
   "version": "3.7.3"
  }
 },
 "nbformat": 4,
 "nbformat_minor": 2
}
